{
 "cells": [
  {
   "cell_type": "markdown",
   "id": "5dca05a4",
   "metadata": {},
   "source": [
    "# Housing Price Prediction"
   ]
  },
  {
   "cell_type": "code",
   "execution_count": 24,
   "id": "3b4fd445",
   "metadata": {},
   "outputs": [
    {
     "name": "stdout",
     "output_type": "stream",
     "text": [
      "Modules imported successfully!\n"
     ]
    }
   ],
   "source": [
    "#Import required Modules\n",
    "import numpy as np\n",
    "import pandas as pd\n",
    "import warnings\n",
    "import seaborn as sns\n",
    "import matplotlib.pyplot as plt\n",
    "%matplotlib inline\n",
    "warnings.filterwarnings('ignore')\n",
    "\n",
    "print('Modules imported successfully!')"
   ]
  },
  {
   "cell_type": "code",
   "execution_count": 2,
   "id": "2f74585b",
   "metadata": {},
   "outputs": [],
   "source": [
    "#Import Datasets\n",
    "df_bangalore = pd.read_csv(r'datasets/Bangalore.csv')\n",
    "df_chennai = pd.read_csv(r'datasets/Chennai.csv')\n",
    "df_delhi = pd.read_csv(r'datasets/Delhi.csv')\n",
    "df_hyderabad = pd.read_csv(r'datasets/Hyderabad.csv')\n",
    "df_kolkata = pd.read_csv(r'datasets/Kolkata.csv')\n",
    "df_mumbai = pd.read_csv(r'datasets/Mumbai.csv')"
   ]
  },
  {
   "cell_type": "code",
   "execution_count": 3,
   "id": "b8899c84",
   "metadata": {},
   "outputs": [],
   "source": [
    "#Creating a new column to keep track of city\n",
    "df_bangalore['City'] = 'Bangalore'\n",
    "df_chennai['City'] = 'Chennai'\n",
    "df_delhi['City'] = 'Delhi'\n",
    "df_hyderabad['City'] = 'Hyderabad'\n",
    "df_kolkata['City'] = 'Kolkata'\n",
    "df_mumbai['City'] = ' Mumbai'"
   ]
  },
  {
   "cell_type": "code",
   "execution_count": 4,
   "id": "9e81a3f8",
   "metadata": {},
   "outputs": [
    {
     "name": "stdout",
     "output_type": "stream",
     "text": [
      "Dataset Loaded Successfully!\n"
     ]
    }
   ],
   "source": [
    "#Merge Dataset\n",
    "df = pd.concat([df_bangalore, df_chennai, df_delhi, df_hyderabad, df_kolkata, df_mumbai])\n",
    "\n",
    "print('Dataset Loaded Successfully!')"
   ]
  },
  {
   "cell_type": "code",
   "execution_count": 5,
   "id": "d545be07",
   "metadata": {},
   "outputs": [
    {
     "data": {
      "text/plain": [
       "(32963, 41)"
      ]
     },
     "execution_count": 5,
     "metadata": {},
     "output_type": "execute_result"
    }
   ],
   "source": [
    "#Check the size of the dataset\n",
    "df.shape"
   ]
  },
  {
   "cell_type": "code",
   "execution_count": 6,
   "id": "1a1a779d",
   "metadata": {},
   "outputs": [
    {
     "data": {
      "text/plain": [
       "Index(['Price', 'Area', 'Location', 'No. of Bedrooms', 'Resale',\n",
       "       'MaintenanceStaff', 'Gymnasium', 'SwimmingPool', 'LandscapedGardens',\n",
       "       'JoggingTrack', 'RainWaterHarvesting', 'IndoorGames', 'ShoppingMall',\n",
       "       'Intercom', 'SportsFacility', 'ATM', 'ClubHouse', 'School',\n",
       "       '24X7Security', 'PowerBackup', 'CarParking', 'StaffQuarter',\n",
       "       'Cafeteria', 'MultipurposeRoom', 'Hospital', 'WashingMachine',\n",
       "       'Gasconnection', 'AC', 'Wifi', 'Children'splayarea', 'LiftAvailable',\n",
       "       'BED', 'VaastuCompliant', 'Microwave', 'GolfCourse', 'TV',\n",
       "       'DiningTable', 'Sofa', 'Wardrobe', 'Refrigerator', 'City'],\n",
       "      dtype='object')"
      ]
     },
     "execution_count": 6,
     "metadata": {},
     "output_type": "execute_result"
    }
   ],
   "source": [
    "#Check the names of the columns\n",
    "df.columns"
   ]
  },
  {
   "cell_type": "code",
   "execution_count": 7,
   "id": "5739ebea",
   "metadata": {},
   "outputs": [
    {
     "data": {
      "text/html": [
       "<div>\n",
       "<style scoped>\n",
       "    .dataframe tbody tr th:only-of-type {\n",
       "        vertical-align: middle;\n",
       "    }\n",
       "\n",
       "    .dataframe tbody tr th {\n",
       "        vertical-align: top;\n",
       "    }\n",
       "\n",
       "    .dataframe thead th {\n",
       "        text-align: right;\n",
       "    }\n",
       "</style>\n",
       "<table border=\"1\" class=\"dataframe\">\n",
       "  <thead>\n",
       "    <tr style=\"text-align: right;\">\n",
       "      <th></th>\n",
       "      <th>Price</th>\n",
       "      <th>Area</th>\n",
       "      <th>Location</th>\n",
       "      <th>No. of Bedrooms</th>\n",
       "      <th>Resale</th>\n",
       "      <th>MaintenanceStaff</th>\n",
       "      <th>Gymnasium</th>\n",
       "      <th>SwimmingPool</th>\n",
       "      <th>LandscapedGardens</th>\n",
       "      <th>JoggingTrack</th>\n",
       "      <th>...</th>\n",
       "      <th>BED</th>\n",
       "      <th>VaastuCompliant</th>\n",
       "      <th>Microwave</th>\n",
       "      <th>GolfCourse</th>\n",
       "      <th>TV</th>\n",
       "      <th>DiningTable</th>\n",
       "      <th>Sofa</th>\n",
       "      <th>Wardrobe</th>\n",
       "      <th>Refrigerator</th>\n",
       "      <th>City</th>\n",
       "    </tr>\n",
       "  </thead>\n",
       "  <tbody>\n",
       "    <tr>\n",
       "      <th>0</th>\n",
       "      <td>30000000</td>\n",
       "      <td>3340</td>\n",
       "      <td>JP Nagar Phase 1</td>\n",
       "      <td>4</td>\n",
       "      <td>0</td>\n",
       "      <td>1</td>\n",
       "      <td>1</td>\n",
       "      <td>1</td>\n",
       "      <td>1</td>\n",
       "      <td>1</td>\n",
       "      <td>...</td>\n",
       "      <td>0</td>\n",
       "      <td>0</td>\n",
       "      <td>0</td>\n",
       "      <td>0</td>\n",
       "      <td>0</td>\n",
       "      <td>0</td>\n",
       "      <td>0</td>\n",
       "      <td>0</td>\n",
       "      <td>0</td>\n",
       "      <td>Bangalore</td>\n",
       "    </tr>\n",
       "    <tr>\n",
       "      <th>1</th>\n",
       "      <td>7888000</td>\n",
       "      <td>1045</td>\n",
       "      <td>Dasarahalli on Tumkur Road</td>\n",
       "      <td>2</td>\n",
       "      <td>0</td>\n",
       "      <td>0</td>\n",
       "      <td>1</td>\n",
       "      <td>1</td>\n",
       "      <td>1</td>\n",
       "      <td>1</td>\n",
       "      <td>...</td>\n",
       "      <td>0</td>\n",
       "      <td>1</td>\n",
       "      <td>0</td>\n",
       "      <td>0</td>\n",
       "      <td>0</td>\n",
       "      <td>0</td>\n",
       "      <td>0</td>\n",
       "      <td>0</td>\n",
       "      <td>0</td>\n",
       "      <td>Bangalore</td>\n",
       "    </tr>\n",
       "    <tr>\n",
       "      <th>2</th>\n",
       "      <td>4866000</td>\n",
       "      <td>1179</td>\n",
       "      <td>Kannur on Thanisandra Main Road</td>\n",
       "      <td>2</td>\n",
       "      <td>0</td>\n",
       "      <td>0</td>\n",
       "      <td>1</td>\n",
       "      <td>1</td>\n",
       "      <td>1</td>\n",
       "      <td>1</td>\n",
       "      <td>...</td>\n",
       "      <td>0</td>\n",
       "      <td>0</td>\n",
       "      <td>0</td>\n",
       "      <td>0</td>\n",
       "      <td>0</td>\n",
       "      <td>0</td>\n",
       "      <td>0</td>\n",
       "      <td>0</td>\n",
       "      <td>0</td>\n",
       "      <td>Bangalore</td>\n",
       "    </tr>\n",
       "    <tr>\n",
       "      <th>3</th>\n",
       "      <td>8358000</td>\n",
       "      <td>1675</td>\n",
       "      <td>Doddanekundi</td>\n",
       "      <td>3</td>\n",
       "      <td>0</td>\n",
       "      <td>0</td>\n",
       "      <td>0</td>\n",
       "      <td>0</td>\n",
       "      <td>0</td>\n",
       "      <td>0</td>\n",
       "      <td>...</td>\n",
       "      <td>0</td>\n",
       "      <td>0</td>\n",
       "      <td>0</td>\n",
       "      <td>0</td>\n",
       "      <td>0</td>\n",
       "      <td>0</td>\n",
       "      <td>0</td>\n",
       "      <td>0</td>\n",
       "      <td>0</td>\n",
       "      <td>Bangalore</td>\n",
       "    </tr>\n",
       "    <tr>\n",
       "      <th>4</th>\n",
       "      <td>6845000</td>\n",
       "      <td>1670</td>\n",
       "      <td>Kengeri</td>\n",
       "      <td>3</td>\n",
       "      <td>0</td>\n",
       "      <td>1</td>\n",
       "      <td>1</td>\n",
       "      <td>1</td>\n",
       "      <td>1</td>\n",
       "      <td>1</td>\n",
       "      <td>...</td>\n",
       "      <td>0</td>\n",
       "      <td>0</td>\n",
       "      <td>0</td>\n",
       "      <td>0</td>\n",
       "      <td>0</td>\n",
       "      <td>0</td>\n",
       "      <td>0</td>\n",
       "      <td>0</td>\n",
       "      <td>0</td>\n",
       "      <td>Bangalore</td>\n",
       "    </tr>\n",
       "  </tbody>\n",
       "</table>\n",
       "<p>5 rows × 41 columns</p>\n",
       "</div>"
      ],
      "text/plain": [
       "      Price  Area                         Location  No. of Bedrooms  Resale  \\\n",
       "0  30000000  3340                 JP Nagar Phase 1                4       0   \n",
       "1   7888000  1045       Dasarahalli on Tumkur Road                2       0   \n",
       "2   4866000  1179  Kannur on Thanisandra Main Road                2       0   \n",
       "3   8358000  1675                     Doddanekundi                3       0   \n",
       "4   6845000  1670                          Kengeri                3       0   \n",
       "\n",
       "   MaintenanceStaff  Gymnasium  SwimmingPool  LandscapedGardens  JoggingTrack  \\\n",
       "0                 1          1             1                  1             1   \n",
       "1                 0          1             1                  1             1   \n",
       "2                 0          1             1                  1             1   \n",
       "3                 0          0             0                  0             0   \n",
       "4                 1          1             1                  1             1   \n",
       "\n",
       "   ...  BED  VaastuCompliant  Microwave  GolfCourse  TV  DiningTable  Sofa  \\\n",
       "0  ...    0                0          0           0   0            0     0   \n",
       "1  ...    0                1          0           0   0            0     0   \n",
       "2  ...    0                0          0           0   0            0     0   \n",
       "3  ...    0                0          0           0   0            0     0   \n",
       "4  ...    0                0          0           0   0            0     0   \n",
       "\n",
       "   Wardrobe  Refrigerator       City  \n",
       "0         0             0  Bangalore  \n",
       "1         0             0  Bangalore  \n",
       "2         0             0  Bangalore  \n",
       "3         0             0  Bangalore  \n",
       "4         0             0  Bangalore  \n",
       "\n",
       "[5 rows x 41 columns]"
      ]
     },
     "execution_count": 7,
     "metadata": {},
     "output_type": "execute_result"
    }
   ],
   "source": [
    "#Check the first 5 rows\n",
    "df.head()"
   ]
  },
  {
   "cell_type": "code",
   "execution_count": 8,
   "id": "e795ec90",
   "metadata": {
    "scrolled": false
   },
   "outputs": [
    {
     "name": "stdout",
     "output_type": "stream",
     "text": [
      "<class 'pandas.core.frame.DataFrame'>\n",
      "Int64Index: 32963 entries, 0 to 7718\n",
      "Data columns (total 41 columns):\n",
      " #   Column               Non-Null Count  Dtype \n",
      "---  ------               --------------  ----- \n",
      " 0   Price                32963 non-null  int64 \n",
      " 1   Area                 32963 non-null  int64 \n",
      " 2   Location             32963 non-null  object\n",
      " 3   No. of Bedrooms      32963 non-null  int64 \n",
      " 4   Resale               32963 non-null  int64 \n",
      " 5   MaintenanceStaff     32963 non-null  int64 \n",
      " 6   Gymnasium            32963 non-null  int64 \n",
      " 7   SwimmingPool         32963 non-null  int64 \n",
      " 8   LandscapedGardens    32963 non-null  int64 \n",
      " 9   JoggingTrack         32963 non-null  int64 \n",
      " 10  RainWaterHarvesting  32963 non-null  int64 \n",
      " 11  IndoorGames          32963 non-null  int64 \n",
      " 12  ShoppingMall         32963 non-null  int64 \n",
      " 13  Intercom             32963 non-null  int64 \n",
      " 14  SportsFacility       32963 non-null  int64 \n",
      " 15  ATM                  32963 non-null  int64 \n",
      " 16  ClubHouse            32963 non-null  int64 \n",
      " 17  School               32963 non-null  int64 \n",
      " 18  24X7Security         32963 non-null  int64 \n",
      " 19  PowerBackup          32963 non-null  int64 \n",
      " 20  CarParking           32963 non-null  int64 \n",
      " 21  StaffQuarter         32963 non-null  int64 \n",
      " 22  Cafeteria            32963 non-null  int64 \n",
      " 23  MultipurposeRoom     32963 non-null  int64 \n",
      " 24  Hospital             32963 non-null  int64 \n",
      " 25  WashingMachine       32963 non-null  int64 \n",
      " 26  Gasconnection        32963 non-null  int64 \n",
      " 27  AC                   32963 non-null  int64 \n",
      " 28  Wifi                 32963 non-null  int64 \n",
      " 29  Children'splayarea   32963 non-null  int64 \n",
      " 30  LiftAvailable        32963 non-null  int64 \n",
      " 31  BED                  32963 non-null  int64 \n",
      " 32  VaastuCompliant      32963 non-null  int64 \n",
      " 33  Microwave            32963 non-null  int64 \n",
      " 34  GolfCourse           32963 non-null  int64 \n",
      " 35  TV                   32963 non-null  int64 \n",
      " 36  DiningTable          32963 non-null  int64 \n",
      " 37  Sofa                 32963 non-null  int64 \n",
      " 38  Wardrobe             32963 non-null  int64 \n",
      " 39  Refrigerator         32963 non-null  int64 \n",
      " 40  City                 32963 non-null  object\n",
      "dtypes: int64(39), object(2)\n",
      "memory usage: 10.6+ MB\n"
     ]
    }
   ],
   "source": [
    "#Checking th data types of the features\n",
    "df.info()"
   ]
  },
  {
   "cell_type": "code",
   "execution_count": 9,
   "id": "34073264",
   "metadata": {
    "scrolled": true
   },
   "outputs": [
    {
     "data": {
      "text/plain": [
       "Price                  4924\n",
       "Area                   2452\n",
       "Location               1776\n",
       "No. of Bedrooms           9\n",
       "Resale                    2\n",
       "MaintenanceStaff          3\n",
       "Gymnasium                 3\n",
       "SwimmingPool              3\n",
       "LandscapedGardens         3\n",
       "JoggingTrack              3\n",
       "RainWaterHarvesting       3\n",
       "IndoorGames               3\n",
       "ShoppingMall              3\n",
       "Intercom                  3\n",
       "SportsFacility            3\n",
       "ATM                       3\n",
       "ClubHouse                 3\n",
       "School                    3\n",
       "24X7Security              3\n",
       "PowerBackup               3\n",
       "CarParking                3\n",
       "StaffQuarter              3\n",
       "Cafeteria                 3\n",
       "MultipurposeRoom          3\n",
       "Hospital                  3\n",
       "WashingMachine            3\n",
       "Gasconnection             3\n",
       "AC                        3\n",
       "Wifi                      3\n",
       "Children'splayarea        3\n",
       "LiftAvailable             3\n",
       "BED                       3\n",
       "VaastuCompliant           3\n",
       "Microwave                 3\n",
       "GolfCourse                3\n",
       "TV                        3\n",
       "DiningTable               3\n",
       "Sofa                      3\n",
       "Wardrobe                  3\n",
       "Refrigerator              3\n",
       "City                      6\n",
       "dtype: int64"
      ]
     },
     "execution_count": 9,
     "metadata": {},
     "output_type": "execute_result"
    }
   ],
   "source": [
    "#Checking unique values in each column\n",
    "df.apply(lambda x: len(x.unique()))"
   ]
  },
  {
   "cell_type": "code",
   "execution_count": 10,
   "id": "e047eb98",
   "metadata": {},
   "outputs": [],
   "source": [
    "#Replacing 9 with Null values\n",
    "df.replace(9, np.nan, inplace=True)"
   ]
  },
  {
   "cell_type": "code",
   "execution_count": 11,
   "id": "6838a404",
   "metadata": {
    "scrolled": false
   },
   "outputs": [
    {
     "data": {
      "text/plain": [
       "Price                      0\n",
       "Area                       0\n",
       "Location                   0\n",
       "No. of Bedrooms            1\n",
       "Resale                     0\n",
       "MaintenanceStaff       22870\n",
       "Gymnasium              22870\n",
       "SwimmingPool           22870\n",
       "LandscapedGardens      22870\n",
       "JoggingTrack           22870\n",
       "RainWaterHarvesting    22870\n",
       "IndoorGames            22870\n",
       "ShoppingMall           22870\n",
       "Intercom               22870\n",
       "SportsFacility         22870\n",
       "ATM                    22870\n",
       "ClubHouse              22870\n",
       "School                 22870\n",
       "24X7Security           22870\n",
       "PowerBackup            22870\n",
       "CarParking             22870\n",
       "StaffQuarter           22870\n",
       "Cafeteria              22870\n",
       "MultipurposeRoom       22870\n",
       "Hospital               22870\n",
       "WashingMachine         22870\n",
       "Gasconnection          22870\n",
       "AC                     22870\n",
       "Wifi                   22870\n",
       "Children'splayarea     22870\n",
       "LiftAvailable          22870\n",
       "BED                    22870\n",
       "VaastuCompliant        22870\n",
       "Microwave              22870\n",
       "GolfCourse             22870\n",
       "TV                     22870\n",
       "DiningTable            22870\n",
       "Sofa                   22870\n",
       "Wardrobe               22870\n",
       "Refrigerator           22870\n",
       "City                       0\n",
       "dtype: int64"
      ]
     },
     "execution_count": 11,
     "metadata": {},
     "output_type": "execute_result"
    }
   ],
   "source": [
    "#Checking the null values \n",
    "df.isnull().sum()"
   ]
  },
  {
   "cell_type": "code",
   "execution_count": 12,
   "id": "1c47b10e",
   "metadata": {},
   "outputs": [],
   "source": [
    "#Drop null values\n",
    "df.dropna(inplace=True)"
   ]
  },
  {
   "cell_type": "code",
   "execution_count": 13,
   "id": "b1a9708f",
   "metadata": {},
   "outputs": [
    {
     "data": {
      "text/plain": [
       "1867"
      ]
     },
     "execution_count": 13,
     "metadata": {},
     "output_type": "execute_result"
    }
   ],
   "source": [
    "#Checking for duplicate rows\n",
    "df.duplicated().sum()"
   ]
  },
  {
   "cell_type": "code",
   "execution_count": 14,
   "id": "b5f00915",
   "metadata": {},
   "outputs": [],
   "source": [
    "#Removing the duplicate rows\n",
    "df.drop_duplicates(inplace=True)"
   ]
  },
  {
   "cell_type": "code",
   "execution_count": 15,
   "id": "b4af7009",
   "metadata": {},
   "outputs": [
    {
     "data": {
      "text/html": [
       "<div>\n",
       "<style scoped>\n",
       "    .dataframe tbody tr th:only-of-type {\n",
       "        vertical-align: middle;\n",
       "    }\n",
       "\n",
       "    .dataframe tbody tr th {\n",
       "        vertical-align: top;\n",
       "    }\n",
       "\n",
       "    .dataframe thead th {\n",
       "        text-align: right;\n",
       "    }\n",
       "</style>\n",
       "<table border=\"1\" class=\"dataframe\">\n",
       "  <thead>\n",
       "    <tr style=\"text-align: right;\">\n",
       "      <th></th>\n",
       "      <th>Price</th>\n",
       "      <th>Area</th>\n",
       "      <th>Location</th>\n",
       "      <th>No. of Bedrooms</th>\n",
       "      <th>Resale</th>\n",
       "      <th>MaintenanceStaff</th>\n",
       "      <th>Gymnasium</th>\n",
       "      <th>SwimmingPool</th>\n",
       "      <th>LandscapedGardens</th>\n",
       "      <th>JoggingTrack</th>\n",
       "      <th>...</th>\n",
       "      <th>BED</th>\n",
       "      <th>VaastuCompliant</th>\n",
       "      <th>Microwave</th>\n",
       "      <th>GolfCourse</th>\n",
       "      <th>TV</th>\n",
       "      <th>DiningTable</th>\n",
       "      <th>Sofa</th>\n",
       "      <th>Wardrobe</th>\n",
       "      <th>Refrigerator</th>\n",
       "      <th>City</th>\n",
       "    </tr>\n",
       "  </thead>\n",
       "  <tbody>\n",
       "    <tr>\n",
       "      <th>0</th>\n",
       "      <td>30000000</td>\n",
       "      <td>3340</td>\n",
       "      <td>JP Nagar Phase 1</td>\n",
       "      <td>4.0</td>\n",
       "      <td>0</td>\n",
       "      <td>1.0</td>\n",
       "      <td>1.0</td>\n",
       "      <td>1.0</td>\n",
       "      <td>1.0</td>\n",
       "      <td>1.0</td>\n",
       "      <td>...</td>\n",
       "      <td>0.0</td>\n",
       "      <td>0.0</td>\n",
       "      <td>0.0</td>\n",
       "      <td>0.0</td>\n",
       "      <td>0.0</td>\n",
       "      <td>0.0</td>\n",
       "      <td>0.0</td>\n",
       "      <td>0.0</td>\n",
       "      <td>0.0</td>\n",
       "      <td>Bangalore</td>\n",
       "    </tr>\n",
       "    <tr>\n",
       "      <th>1</th>\n",
       "      <td>7888000</td>\n",
       "      <td>1045</td>\n",
       "      <td>Dasarahalli on Tumkur Road</td>\n",
       "      <td>2.0</td>\n",
       "      <td>0</td>\n",
       "      <td>0.0</td>\n",
       "      <td>1.0</td>\n",
       "      <td>1.0</td>\n",
       "      <td>1.0</td>\n",
       "      <td>1.0</td>\n",
       "      <td>...</td>\n",
       "      <td>0.0</td>\n",
       "      <td>1.0</td>\n",
       "      <td>0.0</td>\n",
       "      <td>0.0</td>\n",
       "      <td>0.0</td>\n",
       "      <td>0.0</td>\n",
       "      <td>0.0</td>\n",
       "      <td>0.0</td>\n",
       "      <td>0.0</td>\n",
       "      <td>Bangalore</td>\n",
       "    </tr>\n",
       "    <tr>\n",
       "      <th>2</th>\n",
       "      <td>4866000</td>\n",
       "      <td>1179</td>\n",
       "      <td>Kannur on Thanisandra Main Road</td>\n",
       "      <td>2.0</td>\n",
       "      <td>0</td>\n",
       "      <td>0.0</td>\n",
       "      <td>1.0</td>\n",
       "      <td>1.0</td>\n",
       "      <td>1.0</td>\n",
       "      <td>1.0</td>\n",
       "      <td>...</td>\n",
       "      <td>0.0</td>\n",
       "      <td>0.0</td>\n",
       "      <td>0.0</td>\n",
       "      <td>0.0</td>\n",
       "      <td>0.0</td>\n",
       "      <td>0.0</td>\n",
       "      <td>0.0</td>\n",
       "      <td>0.0</td>\n",
       "      <td>0.0</td>\n",
       "      <td>Bangalore</td>\n",
       "    </tr>\n",
       "    <tr>\n",
       "      <th>3</th>\n",
       "      <td>8358000</td>\n",
       "      <td>1675</td>\n",
       "      <td>Doddanekundi</td>\n",
       "      <td>3.0</td>\n",
       "      <td>0</td>\n",
       "      <td>0.0</td>\n",
       "      <td>0.0</td>\n",
       "      <td>0.0</td>\n",
       "      <td>0.0</td>\n",
       "      <td>0.0</td>\n",
       "      <td>...</td>\n",
       "      <td>0.0</td>\n",
       "      <td>0.0</td>\n",
       "      <td>0.0</td>\n",
       "      <td>0.0</td>\n",
       "      <td>0.0</td>\n",
       "      <td>0.0</td>\n",
       "      <td>0.0</td>\n",
       "      <td>0.0</td>\n",
       "      <td>0.0</td>\n",
       "      <td>Bangalore</td>\n",
       "    </tr>\n",
       "    <tr>\n",
       "      <th>4</th>\n",
       "      <td>6845000</td>\n",
       "      <td>1670</td>\n",
       "      <td>Kengeri</td>\n",
       "      <td>3.0</td>\n",
       "      <td>0</td>\n",
       "      <td>1.0</td>\n",
       "      <td>1.0</td>\n",
       "      <td>1.0</td>\n",
       "      <td>1.0</td>\n",
       "      <td>1.0</td>\n",
       "      <td>...</td>\n",
       "      <td>0.0</td>\n",
       "      <td>0.0</td>\n",
       "      <td>0.0</td>\n",
       "      <td>0.0</td>\n",
       "      <td>0.0</td>\n",
       "      <td>0.0</td>\n",
       "      <td>0.0</td>\n",
       "      <td>0.0</td>\n",
       "      <td>0.0</td>\n",
       "      <td>Bangalore</td>\n",
       "    </tr>\n",
       "  </tbody>\n",
       "</table>\n",
       "<p>5 rows × 41 columns</p>\n",
       "</div>"
      ],
      "text/plain": [
       "      Price  Area                         Location  No. of Bedrooms  Resale  \\\n",
       "0  30000000  3340                 JP Nagar Phase 1              4.0       0   \n",
       "1   7888000  1045       Dasarahalli on Tumkur Road              2.0       0   \n",
       "2   4866000  1179  Kannur on Thanisandra Main Road              2.0       0   \n",
       "3   8358000  1675                     Doddanekundi              3.0       0   \n",
       "4   6845000  1670                          Kengeri              3.0       0   \n",
       "\n",
       "   MaintenanceStaff  Gymnasium  SwimmingPool  LandscapedGardens  JoggingTrack  \\\n",
       "0               1.0        1.0           1.0                1.0           1.0   \n",
       "1               0.0        1.0           1.0                1.0           1.0   \n",
       "2               0.0        1.0           1.0                1.0           1.0   \n",
       "3               0.0        0.0           0.0                0.0           0.0   \n",
       "4               1.0        1.0           1.0                1.0           1.0   \n",
       "\n",
       "   ...  BED  VaastuCompliant  Microwave  GolfCourse   TV  DiningTable  Sofa  \\\n",
       "0  ...  0.0              0.0        0.0         0.0  0.0          0.0   0.0   \n",
       "1  ...  0.0              1.0        0.0         0.0  0.0          0.0   0.0   \n",
       "2  ...  0.0              0.0        0.0         0.0  0.0          0.0   0.0   \n",
       "3  ...  0.0              0.0        0.0         0.0  0.0          0.0   0.0   \n",
       "4  ...  0.0              0.0        0.0         0.0  0.0          0.0   0.0   \n",
       "\n",
       "   Wardrobe  Refrigerator       City  \n",
       "0       0.0           0.0  Bangalore  \n",
       "1       0.0           0.0  Bangalore  \n",
       "2       0.0           0.0  Bangalore  \n",
       "3       0.0           0.0  Bangalore  \n",
       "4       0.0           0.0  Bangalore  \n",
       "\n",
       "[5 rows x 41 columns]"
      ]
     },
     "execution_count": 15,
     "metadata": {},
     "output_type": "execute_result"
    }
   ],
   "source": [
    "#Checking the dataset before moving to EDA\n",
    "df.head()"
   ]
  },
  {
   "cell_type": "markdown",
   "id": "d6387787",
   "metadata": {},
   "source": [
    "## Exploratory Data Anlaysis"
   ]
  },
  {
   "cell_type": "code",
   "execution_count": 32,
   "id": "05b88c32",
   "metadata": {},
   "outputs": [
    {
     "data": {
      "text/plain": [
       "<AxesSubplot:xlabel='No. of Bedrooms', ylabel='count'>"
      ]
     },
     "execution_count": 32,
     "metadata": {},
     "output_type": "execute_result"
    },
    {
     "data": {
      "image/png": "[encoded data removed]",
      "text/plain": [
       "<Figure size 432x288 with 1 Axes>"
      ]
     },
     "metadata": {
      "needs_background": "light"
     },
     "output_type": "display_data"
    }
   ],
   "source": [
    "sns.countplot(df['No. of Bedrooms'])"
   ]
  },
  {
   "cell_type": "code",
   "execution_count": 33,
   "id": "4db4da92",
   "metadata": {},
   "outputs": [
    {
     "data": {
      "text/plain": [
       "<AxesSubplot:xlabel='No. of Bedrooms', ylabel='Price'>"
      ]
     },
     "execution_count": 33,
     "metadata": {},
     "output_type": "execute_result"
    },
    {
     "data": {
      "image/png": "[encoded data removed]",
      "text/plain": [
       "<Figure size 432x288 with 1 Axes>"
      ]
     },
     "metadata": {
      "needs_background": "light"
     },
     "output_type": "display_data"
    }
   ],
   "source": [
    "sns.scatterplot(x = df['No. of Bedrooms'], y=df['Price'])"
   ]
  },
  {
   "cell_type": "markdown",
   "id": "b8f1ece5",
   "metadata": {},
   "source": [
    "## Preprocessing"
   ]
  },
  {
   "cell_type": "code",
   "execution_count": 16,
   "id": "2ff5745b",
   "metadata": {},
   "outputs": [],
   "source": [
    "#Splitting the data\n",
    "X = df.drop(columns='Price')\n",
    "y = df['Price']"
   ]
  },
  {
   "cell_type": "code",
   "execution_count": 17,
   "id": "216434bd",
   "metadata": {},
   "outputs": [],
   "source": [
    "#Splitting the data into train and test set\n",
    "from sklearn.model_selection import train_test_split\n",
    "X_train, X_test, y_train, y_test = train_test_split(X, y, test_size=0.3, random_state=42)"
   ]
  },
  {
   "cell_type": "code",
   "execution_count": 18,
   "id": "a55afa5a",
   "metadata": {},
   "outputs": [],
   "source": [
    "#Required modules for the pipeline\n",
    "from sklearn.preprocessing import StandardScaler\n",
    "from sklearn.preprocessing import OrdinalEncoder\n",
    "from sklearn.compose import ColumnTransformer\n",
    "from sklearn.pipeline import Pipeline"
   ]
  },
  {
   "cell_type": "code",
   "execution_count": 19,
   "id": "a8e0e257",
   "metadata": {},
   "outputs": [],
   "source": [
    "#Taking numerical and categorical features in seperate variables\n",
    "numeric_features = ['Area']\n",
    "\n",
    "categorical_features = ['Location', 'City']"
   ]
  },
  {
   "cell_type": "code",
   "execution_count": 20,
   "id": "0b97b6a5",
   "metadata": {},
   "outputs": [],
   "source": [
    "#Pipeline for transformation\n",
    "numeric_transformer = Pipeline(steps=[\n",
    "    ('scaler', StandardScaler())\n",
    "])\n",
    "\n",
    "categorical_transformer = Pipeline(steps=[\n",
    "    ('ordinal', OrdinalEncoder())\n",
    "])"
   ]
  },
  {
   "cell_type": "code",
   "execution_count": 21,
   "id": "16f59feb",
   "metadata": {},
   "outputs": [],
   "source": [
    "#Pipeline for column transformation\n",
    "preprocessor = ColumnTransformer(transformers=[\n",
    "    ('numeric', numeric_transformer, numeric_features),\n",
    "    ('categorical', categorical_transformer, categorical_features)\n",
    "])"
   ]
  },
  {
   "cell_type": "code",
   "execution_count": 22,
   "id": "adca5e68",
   "metadata": {},
   "outputs": [],
   "source": [
    "#Function to train and get the score of the models\n",
    "def oneForAll(preprocessor, models, name):\n",
    "    n=0\n",
    "    for model in models:\n",
    "        pipeline = Pipeline(steps=[\n",
    "        ('preprocessor', preprocessor),\n",
    "        (name[n], model)\n",
    "        ])\n",
    "        pipeline.fit(X,y)\n",
    "        y_pred_train = pipeline.predict(X_train)\n",
    "        y_pred_test = pipeline.predict(X_test)\n",
    "        scores_train.append(r2_score(y_train, y_pred_train))\n",
    "        scores_test.append(r2_score(y_test, y_pred_test))\n",
    "        n=n+1"
   ]
  },
  {
   "cell_type": "code",
   "execution_count": 23,
   "id": "7cae7223",
   "metadata": {},
   "outputs": [],
   "source": [
    "#Required modules for models\n",
    "from sklearn.linear_model import LinearRegression, Ridge, Lasso, ElasticNet\n",
    "from sklearn.tree import DecisionTreeRegressor\n",
    "from sklearn.ensemble import RandomForestRegressor\n",
    "from sklearn.neighbors import KNeighborsRegressor\n",
    "import xgboost as xgb\n",
    "import lightgbm as gbm"
   ]
  },
  {
   "cell_type": "code",
   "execution_count": 24,
   "id": "67ea18be",
   "metadata": {},
   "outputs": [],
   "source": [
    "#initialising the models\n",
    "linear = LinearRegression()\n",
    "ridge = Ridge()\n",
    "lasso = Lasso()\n",
    "elastic = ElasticNet()\n",
    "dt = DecisionTreeRegressor()\n",
    "rf = RandomForestRegressor()\n",
    "knn = KNeighborsRegressor()\n",
    "xg = xgb.XGBRegressor()\n",
    "lgb = gbm.LGBMRegressor()"
   ]
  },
  {
   "cell_type": "code",
   "execution_count": 25,
   "id": "5253894b",
   "metadata": {},
   "outputs": [],
   "source": [
    "#final preparation for fitting\n",
    "from sklearn.metrics import r2_score\n",
    "models = [linear, ridge, lasso, elastic, dt, rf, knn, xg, lgb]\n",
    "name = ['Linear Regression', 'Ridge', 'Lasso', 'Elastic', 'Decision Tree', 'Random Forest', 'K-Neighbors', 'XGBoost', 'Light GBM']\n",
    "scores_train=[]\n",
    "scores_test=[]"
   ]
  },
  {
   "cell_type": "code",
   "execution_count": 26,
   "id": "a4d7b876",
   "metadata": {},
   "outputs": [],
   "source": [
    "#Calling the function\n",
    "oneForAll(preprocessor, models, name)"
   ]
  },
  {
   "cell_type": "markdown",
   "id": "8c6eed2f",
   "metadata": {},
   "source": [
    "## Evaluation"
   ]
  },
  {
   "cell_type": "code",
   "execution_count": 27,
   "id": "7ee5c044",
   "metadata": {},
   "outputs": [
    {
     "data": {
      "text/html": [
       "<div>\n",
       "<style scoped>\n",
       "    .dataframe tbody tr th:only-of-type {\n",
       "        vertical-align: middle;\n",
       "    }\n",
       "\n",
       "    .dataframe tbody tr th {\n",
       "        vertical-align: top;\n",
       "    }\n",
       "\n",
       "    .dataframe thead th {\n",
       "        text-align: right;\n",
       "    }\n",
       "</style>\n",
       "<table border=\"1\" class=\"dataframe\">\n",
       "  <thead>\n",
       "    <tr style=\"text-align: right;\">\n",
       "      <th></th>\n",
       "      <th>Model</th>\n",
       "      <th>Train Score</th>\n",
       "      <th>Test Score</th>\n",
       "    </tr>\n",
       "  </thead>\n",
       "  <tbody>\n",
       "    <tr>\n",
       "      <th>4</th>\n",
       "      <td>Decision Tree</td>\n",
       "      <td>0.989278</td>\n",
       "      <td>0.984668</td>\n",
       "    </tr>\n",
       "    <tr>\n",
       "      <th>7</th>\n",
       "      <td>XGBoost</td>\n",
       "      <td>0.965199</td>\n",
       "      <td>0.968971</td>\n",
       "    </tr>\n",
       "    <tr>\n",
       "      <th>5</th>\n",
       "      <td>Random Forest</td>\n",
       "      <td>0.941726</td>\n",
       "      <td>0.928747</td>\n",
       "    </tr>\n",
       "    <tr>\n",
       "      <th>8</th>\n",
       "      <td>Light GBM</td>\n",
       "      <td>0.798078</td>\n",
       "      <td>0.754256</td>\n",
       "    </tr>\n",
       "    <tr>\n",
       "      <th>6</th>\n",
       "      <td>K-Neighbors</td>\n",
       "      <td>0.767101</td>\n",
       "      <td>0.720602</td>\n",
       "    </tr>\n",
       "    <tr>\n",
       "      <th>1</th>\n",
       "      <td>Ridge</td>\n",
       "      <td>0.544120</td>\n",
       "      <td>0.377250</td>\n",
       "    </tr>\n",
       "    <tr>\n",
       "      <th>2</th>\n",
       "      <td>Lasso</td>\n",
       "      <td>0.544124</td>\n",
       "      <td>0.377242</td>\n",
       "    </tr>\n",
       "    <tr>\n",
       "      <th>0</th>\n",
       "      <td>Linear Regression</td>\n",
       "      <td>0.544124</td>\n",
       "      <td>0.377242</td>\n",
       "    </tr>\n",
       "    <tr>\n",
       "      <th>3</th>\n",
       "      <td>Elastic</td>\n",
       "      <td>0.473242</td>\n",
       "      <td>0.345401</td>\n",
       "    </tr>\n",
       "  </tbody>\n",
       "</table>\n",
       "</div>"
      ],
      "text/plain": [
       "               Model  Train Score  Test Score\n",
       "4      Decision Tree     0.989278    0.984668\n",
       "7            XGBoost     0.965199    0.968971\n",
       "5      Random Forest     0.941726    0.928747\n",
       "8          Light GBM     0.798078    0.754256\n",
       "6        K-Neighbors     0.767101    0.720602\n",
       "1              Ridge     0.544120    0.377250\n",
       "2              Lasso     0.544124    0.377242\n",
       "0  Linear Regression     0.544124    0.377242\n",
       "3            Elastic     0.473242    0.345401"
      ]
     },
     "execution_count": 27,
     "metadata": {},
     "output_type": "execute_result"
    }
   ],
   "source": [
    "#Models and scores  on train and test\n",
    "models = pd.DataFrame({\n",
    "    'Model': name,\n",
    "    'Train Score': scores_train,\n",
    "    'Test Score': scores_test})\n",
    "\n",
    "models.sort_values(by='Test Score', ascending=False)"
   ]
  }
 ],
 "metadata": {
  "kernelspec": {
   "display_name": "Python 3 (ipykernel)",
   "language": "python",
   "name": "python3"
  },
  "language_info": {
   "codemirror_mode": {
    "name": "ipython",
    "version": 3
   },
   "file_extension": ".py",
   "mimetype": "text/x-python",
   "name": "python",
   "nbconvert_exporter": "python",
   "pygments_lexer": "ipython3",
   "version": "3.9.5"
  }
 },
 "nbformat": 4,
 "nbformat_minor": 5
}
