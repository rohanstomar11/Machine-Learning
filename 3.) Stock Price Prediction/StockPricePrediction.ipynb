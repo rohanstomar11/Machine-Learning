{
 "cells": [
  {
   "cell_type": "markdown",
   "id": "1b81dd91",
   "metadata": {},
   "source": [
    "# <font color='black'>Stock Price Prediction</font>"
   ]
  },
  {
   "cell_type": "markdown",
   "id": "be783d37",
   "metadata": {},
   "source": [
    "## Import Modules"
   ]
  },
  {
   "cell_type": "code",
   "execution_count": 1,
   "id": "bc91945f",
   "metadata": {},
   "outputs": [],
   "source": [
    "import numpy as np\n",
    "import pandas as pd\n",
    "import matplotlib.pyplot as plt\n",
    "import seaborn as sns\n",
    "import warnings\n",
    "%matplotlib inline\n",
    "warnings.filterwarnings('ignore')"
   ]
  },
  {
   "cell_type": "markdown",
   "id": "37d1e657",
   "metadata": {},
   "source": [
    "## Load Dataset"
   ]
  },
  {
   "cell_type": "code",
   "execution_count": 2,
   "id": "e8dfd724",
   "metadata": {},
   "outputs": [
    {
     "data": {
      "text/plain": [
       "(497, 15)"
      ]
     },
     "execution_count": 2,
     "metadata": {},
     "output_type": "execute_result"
    }
   ],
   "source": [
    "df = pd.read_csv('ITC.csv')\n",
    "df.shape"
   ]
  },
  {
   "cell_type": "code",
   "execution_count": 3,
   "id": "470d6eb4",
   "metadata": {},
   "outputs": [
    {
     "data": {
      "text/html": [
       "<div>\n",
       "<style scoped>\n",
       "    .dataframe tbody tr th:only-of-type {\n",
       "        vertical-align: middle;\n",
       "    }\n",
       "\n",
       "    .dataframe tbody tr th {\n",
       "        vertical-align: top;\n",
       "    }\n",
       "\n",
       "    .dataframe thead th {\n",
       "        text-align: right;\n",
       "    }\n",
       "</style>\n",
       "<table border=\"1\" class=\"dataframe\">\n",
       "  <thead>\n",
       "    <tr style=\"text-align: right;\">\n",
       "      <th></th>\n",
       "      <th>Symbol</th>\n",
       "      <th>Series</th>\n",
       "      <th>Date</th>\n",
       "      <th>Prev Close</th>\n",
       "      <th>Open Price</th>\n",
       "      <th>High Price</th>\n",
       "      <th>Low Price</th>\n",
       "      <th>Last Price</th>\n",
       "      <th>Close Price</th>\n",
       "      <th>Average Price</th>\n",
       "      <th>Total Traded Quantity</th>\n",
       "      <th>Turnover</th>\n",
       "      <th>No. of Trades</th>\n",
       "      <th>Deliverable Qty</th>\n",
       "      <th>% Dly Qt to Traded Qty</th>\n",
       "    </tr>\n",
       "  </thead>\n",
       "  <tbody>\n",
       "    <tr>\n",
       "      <th>0</th>\n",
       "      <td>ITC</td>\n",
       "      <td>EQ</td>\n",
       "      <td>18-Jul-2019</td>\n",
       "      <td>272.90</td>\n",
       "      <td>272.95</td>\n",
       "      <td>275.10</td>\n",
       "      <td>272.3</td>\n",
       "      <td>272.95</td>\n",
       "      <td>273.00</td>\n",
       "      <td>273.86</td>\n",
       "      <td>9096757</td>\n",
       "      <td>2.491249e+09</td>\n",
       "      <td>83228</td>\n",
       "      <td>6544144</td>\n",
       "      <td>71.94</td>\n",
       "    </tr>\n",
       "    <tr>\n",
       "      <th>1</th>\n",
       "      <td>ITC</td>\n",
       "      <td>EQ</td>\n",
       "      <td>19-Jul-2019</td>\n",
       "      <td>273.00</td>\n",
       "      <td>274.10</td>\n",
       "      <td>274.25</td>\n",
       "      <td>268.0</td>\n",
       "      <td>268.55</td>\n",
       "      <td>268.30</td>\n",
       "      <td>269.75</td>\n",
       "      <td>7986847</td>\n",
       "      <td>2.154470e+09</td>\n",
       "      <td>88555</td>\n",
       "      <td>5138532</td>\n",
       "      <td>64.34</td>\n",
       "    </tr>\n",
       "    <tr>\n",
       "      <th>2</th>\n",
       "      <td>ITC</td>\n",
       "      <td>EQ</td>\n",
       "      <td>22-Jul-2019</td>\n",
       "      <td>268.30</td>\n",
       "      <td>268.00</td>\n",
       "      <td>268.20</td>\n",
       "      <td>264.0</td>\n",
       "      <td>264.30</td>\n",
       "      <td>264.40</td>\n",
       "      <td>265.53</td>\n",
       "      <td>13516960</td>\n",
       "      <td>3.589098e+09</td>\n",
       "      <td>168909</td>\n",
       "      <td>10300104</td>\n",
       "      <td>76.20</td>\n",
       "    </tr>\n",
       "    <tr>\n",
       "      <th>3</th>\n",
       "      <td>ITC</td>\n",
       "      <td>EQ</td>\n",
       "      <td>23-Jul-2019</td>\n",
       "      <td>264.40</td>\n",
       "      <td>265.50</td>\n",
       "      <td>271.70</td>\n",
       "      <td>265.0</td>\n",
       "      <td>270.95</td>\n",
       "      <td>270.65</td>\n",
       "      <td>268.88</td>\n",
       "      <td>14396986</td>\n",
       "      <td>3.871019e+09</td>\n",
       "      <td>125113</td>\n",
       "      <td>10379638</td>\n",
       "      <td>72.10</td>\n",
       "    </tr>\n",
       "    <tr>\n",
       "      <th>4</th>\n",
       "      <td>ITC</td>\n",
       "      <td>EQ</td>\n",
       "      <td>24-Jul-2019</td>\n",
       "      <td>270.65</td>\n",
       "      <td>270.30</td>\n",
       "      <td>273.35</td>\n",
       "      <td>267.9</td>\n",
       "      <td>271.25</td>\n",
       "      <td>270.85</td>\n",
       "      <td>270.08</td>\n",
       "      <td>12072603</td>\n",
       "      <td>3.260569e+09</td>\n",
       "      <td>147314</td>\n",
       "      <td>7610338</td>\n",
       "      <td>63.04</td>\n",
       "    </tr>\n",
       "  </tbody>\n",
       "</table>\n",
       "</div>"
      ],
      "text/plain": [
       "  Symbol Series         Date  Prev Close  Open Price  High Price  Low Price  \\\n",
       "0    ITC     EQ  18-Jul-2019      272.90      272.95      275.10      272.3   \n",
       "1    ITC     EQ  19-Jul-2019      273.00      274.10      274.25      268.0   \n",
       "2    ITC     EQ  22-Jul-2019      268.30      268.00      268.20      264.0   \n",
       "3    ITC     EQ  23-Jul-2019      264.40      265.50      271.70      265.0   \n",
       "4    ITC     EQ  24-Jul-2019      270.65      270.30      273.35      267.9   \n",
       "\n",
       "   Last Price  Close Price  Average Price  Total Traded Quantity  \\\n",
       "0      272.95       273.00         273.86                9096757   \n",
       "1      268.55       268.30         269.75                7986847   \n",
       "2      264.30       264.40         265.53               13516960   \n",
       "3      270.95       270.65         268.88               14396986   \n",
       "4      271.25       270.85         270.08               12072603   \n",
       "\n",
       "       Turnover  No. of Trades Deliverable Qty % Dly Qt to Traded Qty  \n",
       "0  2.491249e+09          83228         6544144                  71.94  \n",
       "1  2.154470e+09          88555         5138532                  64.34  \n",
       "2  3.589098e+09         168909        10300104                  76.20  \n",
       "3  3.871019e+09         125113        10379638                  72.10  \n",
       "4  3.260569e+09         147314         7610338                  63.04  "
      ]
     },
     "execution_count": 3,
     "metadata": {},
     "output_type": "execute_result"
    }
   ],
   "source": [
    "df.head()"
   ]
  },
  {
   "cell_type": "code",
   "execution_count": 4,
   "id": "18b1fc89",
   "metadata": {},
   "outputs": [
    {
     "data": {
      "text/html": [
       "<div>\n",
       "<style scoped>\n",
       "    .dataframe tbody tr th:only-of-type {\n",
       "        vertical-align: middle;\n",
       "    }\n",
       "\n",
       "    .dataframe tbody tr th {\n",
       "        vertical-align: top;\n",
       "    }\n",
       "\n",
       "    .dataframe thead th {\n",
       "        text-align: right;\n",
       "    }\n",
       "</style>\n",
       "<table border=\"1\" class=\"dataframe\">\n",
       "  <thead>\n",
       "    <tr style=\"text-align: right;\">\n",
       "      <th></th>\n",
       "      <th>Prev Close</th>\n",
       "      <th>Open Price</th>\n",
       "      <th>High Price</th>\n",
       "      <th>Low Price</th>\n",
       "      <th>Last Price</th>\n",
       "      <th>Close Price</th>\n",
       "      <th>Average Price</th>\n",
       "      <th>Total Traded Quantity</th>\n",
       "      <th>Turnover</th>\n",
       "      <th>No. of Trades</th>\n",
       "    </tr>\n",
       "  </thead>\n",
       "  <tbody>\n",
       "    <tr>\n",
       "      <th>count</th>\n",
       "      <td>497.000000</td>\n",
       "      <td>497.000000</td>\n",
       "      <td>497.000000</td>\n",
       "      <td>497.000000</td>\n",
       "      <td>497.000000</td>\n",
       "      <td>497.000000</td>\n",
       "      <td>497.000000</td>\n",
       "      <td>4.970000e+02</td>\n",
       "      <td>4.970000e+02</td>\n",
       "      <td>497.000000</td>\n",
       "    </tr>\n",
       "    <tr>\n",
       "      <th>mean</th>\n",
       "      <td>209.957042</td>\n",
       "      <td>210.394567</td>\n",
       "      <td>212.602012</td>\n",
       "      <td>207.473642</td>\n",
       "      <td>209.830282</td>\n",
       "      <td>209.739940</td>\n",
       "      <td>209.958612</td>\n",
       "      <td>2.590291e+07</td>\n",
       "      <td>5.270325e+09</td>\n",
       "      <td>158702.830986</td>\n",
       "    </tr>\n",
       "    <tr>\n",
       "      <th>std</th>\n",
       "      <td>28.323379</td>\n",
       "      <td>28.127904</td>\n",
       "      <td>27.900750</td>\n",
       "      <td>28.389233</td>\n",
       "      <td>27.904503</td>\n",
       "      <td>27.973423</td>\n",
       "      <td>28.117961</td>\n",
       "      <td>1.829195e+07</td>\n",
       "      <td>3.709354e+09</td>\n",
       "      <td>78094.296007</td>\n",
       "    </tr>\n",
       "    <tr>\n",
       "      <th>min</th>\n",
       "      <td>147.250000</td>\n",
       "      <td>148.000000</td>\n",
       "      <td>152.000000</td>\n",
       "      <td>134.600000</td>\n",
       "      <td>147.050000</td>\n",
       "      <td>147.250000</td>\n",
       "      <td>143.990000</td>\n",
       "      <td>1.138578e+06</td>\n",
       "      <td>2.914760e+08</td>\n",
       "      <td>1.000000</td>\n",
       "    </tr>\n",
       "    <tr>\n",
       "      <th>25%</th>\n",
       "      <td>192.600000</td>\n",
       "      <td>192.500000</td>\n",
       "      <td>195.200000</td>\n",
       "      <td>190.000000</td>\n",
       "      <td>192.600000</td>\n",
       "      <td>192.600000</td>\n",
       "      <td>192.670000</td>\n",
       "      <td>1.439699e+07</td>\n",
       "      <td>3.082824e+09</td>\n",
       "      <td>107061.000000</td>\n",
       "    </tr>\n",
       "    <tr>\n",
       "      <th>50%</th>\n",
       "      <td>206.250000</td>\n",
       "      <td>207.000000</td>\n",
       "      <td>208.500000</td>\n",
       "      <td>204.500000</td>\n",
       "      <td>206.400000</td>\n",
       "      <td>206.250000</td>\n",
       "      <td>206.210000</td>\n",
       "      <td>2.080236e+07</td>\n",
       "      <td>4.219315e+09</td>\n",
       "      <td>137418.000000</td>\n",
       "    </tr>\n",
       "    <tr>\n",
       "      <th>75%</th>\n",
       "      <td>236.650000</td>\n",
       "      <td>237.400000</td>\n",
       "      <td>238.750000</td>\n",
       "      <td>234.650000</td>\n",
       "      <td>236.400000</td>\n",
       "      <td>236.100000</td>\n",
       "      <td>236.550000</td>\n",
       "      <td>3.099303e+07</td>\n",
       "      <td>6.116701e+09</td>\n",
       "      <td>191598.000000</td>\n",
       "    </tr>\n",
       "    <tr>\n",
       "      <th>max</th>\n",
       "      <td>298.900000</td>\n",
       "      <td>274.100000</td>\n",
       "      <td>275.100000</td>\n",
       "      <td>272.300000</td>\n",
       "      <td>272.950000</td>\n",
       "      <td>273.000000</td>\n",
       "      <td>273.860000</td>\n",
       "      <td>1.341850e+08</td>\n",
       "      <td>2.977770e+10</td>\n",
       "      <td>523004.000000</td>\n",
       "    </tr>\n",
       "  </tbody>\n",
       "</table>\n",
       "</div>"
      ],
      "text/plain": [
       "       Prev Close  Open Price  High Price   Low Price  Last Price  \\\n",
       "count  497.000000  497.000000  497.000000  497.000000  497.000000   \n",
       "mean   209.957042  210.394567  212.602012  207.473642  209.830282   \n",
       "std     28.323379   28.127904   27.900750   28.389233   27.904503   \n",
       "min    147.250000  148.000000  152.000000  134.600000  147.050000   \n",
       "25%    192.600000  192.500000  195.200000  190.000000  192.600000   \n",
       "50%    206.250000  207.000000  208.500000  204.500000  206.400000   \n",
       "75%    236.650000  237.400000  238.750000  234.650000  236.400000   \n",
       "max    298.900000  274.100000  275.100000  272.300000  272.950000   \n",
       "\n",
       "       Close Price  Average Price  Total Traded Quantity      Turnover  \\\n",
       "count   497.000000     497.000000           4.970000e+02  4.970000e+02   \n",
       "mean    209.739940     209.958612           2.590291e+07  5.270325e+09   \n",
       "std      27.973423      28.117961           1.829195e+07  3.709354e+09   \n",
       "min     147.250000     143.990000           1.138578e+06  2.914760e+08   \n",
       "25%     192.600000     192.670000           1.439699e+07  3.082824e+09   \n",
       "50%     206.250000     206.210000           2.080236e+07  4.219315e+09   \n",
       "75%     236.100000     236.550000           3.099303e+07  6.116701e+09   \n",
       "max     273.000000     273.860000           1.341850e+08  2.977770e+10   \n",
       "\n",
       "       No. of Trades  \n",
       "count     497.000000  \n",
       "mean   158702.830986  \n",
       "std     78094.296007  \n",
       "min         1.000000  \n",
       "25%    107061.000000  \n",
       "50%    137418.000000  \n",
       "75%    191598.000000  \n",
       "max    523004.000000  "
      ]
     },
     "execution_count": 4,
     "metadata": {},
     "output_type": "execute_result"
    }
   ],
   "source": [
    "#Statistical Info\n",
    "df.describe()"
   ]
  },
  {
   "cell_type": "code",
   "execution_count": 5,
   "id": "1b84aa93",
   "metadata": {},
   "outputs": [
    {
     "name": "stdout",
     "output_type": "stream",
     "text": [
      "<class 'pandas.core.frame.DataFrame'>\n",
      "RangeIndex: 497 entries, 0 to 496\n",
      "Data columns (total 15 columns):\n",
      " #   Column                  Non-Null Count  Dtype  \n",
      "---  ------                  --------------  -----  \n",
      " 0   Symbol                  497 non-null    object \n",
      " 1   Series                  497 non-null    object \n",
      " 2   Date                    497 non-null    object \n",
      " 3   Prev Close              497 non-null    float64\n",
      " 4   Open Price              497 non-null    float64\n",
      " 5   High Price              497 non-null    float64\n",
      " 6   Low Price               497 non-null    float64\n",
      " 7   Last Price              497 non-null    float64\n",
      " 8   Close Price             497 non-null    float64\n",
      " 9   Average Price           497 non-null    float64\n",
      " 10  Total Traded Quantity   497 non-null    int64  \n",
      " 11  Turnover                497 non-null    float64\n",
      " 12  No. of Trades           497 non-null    int64  \n",
      " 13  Deliverable Qty         497 non-null    object \n",
      " 14  % Dly Qt to Traded Qty  497 non-null    object \n",
      "dtypes: float64(8), int64(2), object(5)\n",
      "memory usage: 58.4+ KB\n"
     ]
    }
   ],
   "source": [
    "#Datatype of attributes\n",
    "df.info()"
   ]
  },
  {
   "cell_type": "code",
   "execution_count": 6,
   "id": "c5fd4fbc",
   "metadata": {},
   "outputs": [
    {
     "data": {
      "text/plain": [
       "Symbol                      1\n",
       "Series                      2\n",
       "Date                      496\n",
       "Prev Close                435\n",
       "Open Price                394\n",
       "High Price                428\n",
       "Low Price                 407\n",
       "Last Price                424\n",
       "Close Price               433\n",
       "Average Price             482\n",
       "Total Traded Quantity     497\n",
       "Turnover                  497\n",
       "No. of Trades             497\n",
       "Deliverable Qty           497\n",
       "% Dly Qt to Traded Qty    463\n",
       "dtype: int64"
      ]
     },
     "execution_count": 6,
     "metadata": {},
     "output_type": "execute_result"
    }
   ],
   "source": [
    "#Check unique values in dataset\n",
    "df.apply(lambda x: len(x.unique()))"
   ]
  },
  {
   "cell_type": "code",
   "execution_count": 7,
   "id": "c0839622",
   "metadata": {},
   "outputs": [
    {
     "data": {
      "text/plain": [
       "Symbol                    0\n",
       "Series                    0\n",
       "Date                      0\n",
       "Prev Close                0\n",
       "Open Price                0\n",
       "High Price                0\n",
       "Low Price                 0\n",
       "Last Price                0\n",
       "Close Price               0\n",
       "Average Price             0\n",
       "Total Traded Quantity     0\n",
       "Turnover                  0\n",
       "No. of Trades             0\n",
       "Deliverable Qty           0\n",
       "% Dly Qt to Traded Qty    0\n",
       "dtype: int64"
      ]
     },
     "execution_count": 7,
     "metadata": {},
     "output_type": "execute_result"
    }
   ],
   "source": [
    "#Check null values in dataset, if any\n",
    "df.isnull().sum()"
   ]
  },
  {
   "cell_type": "markdown",
   "id": "6a998124",
   "metadata": {},
   "source": [
    "## PreProcessing"
   ]
  },
  {
   "cell_type": "code",
   "execution_count": 8,
   "id": "f9a7b15e",
   "metadata": {},
   "outputs": [],
   "source": [
    "#Converting date column fro object type to datetime type and making it index\n",
    "df['Date'] = df['Date'].apply(pd.to_datetime)\n",
    "df.index = df['Date']"
   ]
  },
  {
   "cell_type": "code",
   "execution_count": 9,
   "id": "78f07c21",
   "metadata": {},
   "outputs": [
    {
     "data": {
      "text/plain": [
       "[<matplotlib.lines.Line2D at 0x1cd1e5c51c0>]"
      ]
     },
     "execution_count": 9,
     "metadata": {},
     "output_type": "execute_result"
    },
    {
     "data": {
      "image/png": "[encoded data removed]",
      "text/plain": [
       "<Figure size 1152x576 with 1 Axes>"
      ]
     },
     "metadata": {
      "needs_background": "light"
     },
     "output_type": "display_data"
    }
   ],
   "source": [
    "#Plotting the line chart\n",
    "plt.figure(figsize=(16,8))\n",
    "plt.plot(df['Close Price'], label='Close Price history')"
   ]
  },
  {
   "cell_type": "code",
   "execution_count": 10,
   "id": "34603a90",
   "metadata": {},
   "outputs": [
    {
     "data": {
      "text/html": [
       "<div>\n",
       "<style scoped>\n",
       "    .dataframe tbody tr th:only-of-type {\n",
       "        vertical-align: middle;\n",
       "    }\n",
       "\n",
       "    .dataframe tbody tr th {\n",
       "        vertical-align: top;\n",
       "    }\n",
       "\n",
       "    .dataframe thead th {\n",
       "        text-align: right;\n",
       "    }\n",
       "</style>\n",
       "<table border=\"1\" class=\"dataframe\">\n",
       "  <thead>\n",
       "    <tr style=\"text-align: right;\">\n",
       "      <th></th>\n",
       "      <th>Date</th>\n",
       "      <th>Open Price</th>\n",
       "      <th>High Price</th>\n",
       "      <th>Low Price</th>\n",
       "      <th>Last Price</th>\n",
       "      <th>Close Price</th>\n",
       "      <th>Average Price</th>\n",
       "      <th>Total Traded Quantity</th>\n",
       "      <th>Turnover</th>\n",
       "      <th>No. of Trades</th>\n",
       "    </tr>\n",
       "    <tr>\n",
       "      <th>Date</th>\n",
       "      <th></th>\n",
       "      <th></th>\n",
       "      <th></th>\n",
       "      <th></th>\n",
       "      <th></th>\n",
       "      <th></th>\n",
       "      <th></th>\n",
       "      <th></th>\n",
       "      <th></th>\n",
       "      <th></th>\n",
       "    </tr>\n",
       "  </thead>\n",
       "  <tbody>\n",
       "    <tr>\n",
       "      <th>2019-07-18</th>\n",
       "      <td>2019-07-18</td>\n",
       "      <td>272.95</td>\n",
       "      <td>275.10</td>\n",
       "      <td>272.3</td>\n",
       "      <td>272.95</td>\n",
       "      <td>273.00</td>\n",
       "      <td>273.86</td>\n",
       "      <td>9096757</td>\n",
       "      <td>2.491249e+09</td>\n",
       "      <td>83228</td>\n",
       "    </tr>\n",
       "    <tr>\n",
       "      <th>2019-07-19</th>\n",
       "      <td>2019-07-19</td>\n",
       "      <td>274.10</td>\n",
       "      <td>274.25</td>\n",
       "      <td>268.0</td>\n",
       "      <td>268.55</td>\n",
       "      <td>268.30</td>\n",
       "      <td>269.75</td>\n",
       "      <td>7986847</td>\n",
       "      <td>2.154470e+09</td>\n",
       "      <td>88555</td>\n",
       "    </tr>\n",
       "    <tr>\n",
       "      <th>2019-07-22</th>\n",
       "      <td>2019-07-22</td>\n",
       "      <td>268.00</td>\n",
       "      <td>268.20</td>\n",
       "      <td>264.0</td>\n",
       "      <td>264.30</td>\n",
       "      <td>264.40</td>\n",
       "      <td>265.53</td>\n",
       "      <td>13516960</td>\n",
       "      <td>3.589098e+09</td>\n",
       "      <td>168909</td>\n",
       "    </tr>\n",
       "    <tr>\n",
       "      <th>2019-07-23</th>\n",
       "      <td>2019-07-23</td>\n",
       "      <td>265.50</td>\n",
       "      <td>271.70</td>\n",
       "      <td>265.0</td>\n",
       "      <td>270.95</td>\n",
       "      <td>270.65</td>\n",
       "      <td>268.88</td>\n",
       "      <td>14396986</td>\n",
       "      <td>3.871019e+09</td>\n",
       "      <td>125113</td>\n",
       "    </tr>\n",
       "    <tr>\n",
       "      <th>2019-07-24</th>\n",
       "      <td>2019-07-24</td>\n",
       "      <td>270.30</td>\n",
       "      <td>273.35</td>\n",
       "      <td>267.9</td>\n",
       "      <td>271.25</td>\n",
       "      <td>270.85</td>\n",
       "      <td>270.08</td>\n",
       "      <td>12072603</td>\n",
       "      <td>3.260569e+09</td>\n",
       "      <td>147314</td>\n",
       "    </tr>\n",
       "  </tbody>\n",
       "</table>\n",
       "</div>"
      ],
      "text/plain": [
       "                 Date  Open Price  High Price  Low Price  Last Price  \\\n",
       "Date                                                                   \n",
       "2019-07-18 2019-07-18      272.95      275.10      272.3      272.95   \n",
       "2019-07-19 2019-07-19      274.10      274.25      268.0      268.55   \n",
       "2019-07-22 2019-07-22      268.00      268.20      264.0      264.30   \n",
       "2019-07-23 2019-07-23      265.50      271.70      265.0      270.95   \n",
       "2019-07-24 2019-07-24      270.30      273.35      267.9      271.25   \n",
       "\n",
       "            Close Price  Average Price  Total Traded Quantity      Turnover  \\\n",
       "Date                                                                          \n",
       "2019-07-18       273.00         273.86                9096757  2.491249e+09   \n",
       "2019-07-19       268.30         269.75                7986847  2.154470e+09   \n",
       "2019-07-22       264.40         265.53               13516960  3.589098e+09   \n",
       "2019-07-23       270.65         268.88               14396986  3.871019e+09   \n",
       "2019-07-24       270.85         270.08               12072603  3.260569e+09   \n",
       "\n",
       "            No. of Trades  \n",
       "Date                       \n",
       "2019-07-18          83228  \n",
       "2019-07-19          88555  \n",
       "2019-07-22         168909  \n",
       "2019-07-23         125113  \n",
       "2019-07-24         147314  "
      ]
     },
     "execution_count": 10,
     "metadata": {},
     "output_type": "execute_result"
    }
   ],
   "source": [
    "#Dropping irrelevant Columns\n",
    "df = df.drop(['Symbol','Series','Prev Close','Deliverable Qty','% Dly Qt to Traded Qty'], axis = 1)\n",
    "df.head()"
   ]
  },
  {
   "cell_type": "code",
   "execution_count": 11,
   "id": "74b18a28",
   "metadata": {},
   "outputs": [
    {
     "data": {
      "text/html": [
       "<div>\n",
       "<style scoped>\n",
       "    .dataframe tbody tr th:only-of-type {\n",
       "        vertical-align: middle;\n",
       "    }\n",
       "\n",
       "    .dataframe tbody tr th {\n",
       "        vertical-align: top;\n",
       "    }\n",
       "\n",
       "    .dataframe thead th {\n",
       "        text-align: right;\n",
       "    }\n",
       "</style>\n",
       "<table border=\"1\" class=\"dataframe\">\n",
       "  <thead>\n",
       "    <tr style=\"text-align: right;\">\n",
       "      <th></th>\n",
       "      <th>Open Price</th>\n",
       "      <th>High Price</th>\n",
       "      <th>Low Price</th>\n",
       "      <th>Last Price</th>\n",
       "      <th>Close Price</th>\n",
       "      <th>Average Price</th>\n",
       "      <th>Total Traded Quantity</th>\n",
       "      <th>Turnover</th>\n",
       "      <th>No. of Trades</th>\n",
       "      <th>Day</th>\n",
       "      <th>Month</th>\n",
       "      <th>Year</th>\n",
       "    </tr>\n",
       "    <tr>\n",
       "      <th>Date</th>\n",
       "      <th></th>\n",
       "      <th></th>\n",
       "      <th></th>\n",
       "      <th></th>\n",
       "      <th></th>\n",
       "      <th></th>\n",
       "      <th></th>\n",
       "      <th></th>\n",
       "      <th></th>\n",
       "      <th></th>\n",
       "      <th></th>\n",
       "      <th></th>\n",
       "    </tr>\n",
       "  </thead>\n",
       "  <tbody>\n",
       "    <tr>\n",
       "      <th>2019-07-18</th>\n",
       "      <td>272.95</td>\n",
       "      <td>275.10</td>\n",
       "      <td>272.3</td>\n",
       "      <td>272.95</td>\n",
       "      <td>273.00</td>\n",
       "      <td>273.86</td>\n",
       "      <td>9096757</td>\n",
       "      <td>2.491249e+09</td>\n",
       "      <td>83228</td>\n",
       "      <td>18</td>\n",
       "      <td>7</td>\n",
       "      <td>0</td>\n",
       "    </tr>\n",
       "    <tr>\n",
       "      <th>2019-07-19</th>\n",
       "      <td>274.10</td>\n",
       "      <td>274.25</td>\n",
       "      <td>268.0</td>\n",
       "      <td>268.55</td>\n",
       "      <td>268.30</td>\n",
       "      <td>269.75</td>\n",
       "      <td>7986847</td>\n",
       "      <td>2.154470e+09</td>\n",
       "      <td>88555</td>\n",
       "      <td>19</td>\n",
       "      <td>7</td>\n",
       "      <td>0</td>\n",
       "    </tr>\n",
       "    <tr>\n",
       "      <th>2019-07-22</th>\n",
       "      <td>268.00</td>\n",
       "      <td>268.20</td>\n",
       "      <td>264.0</td>\n",
       "      <td>264.30</td>\n",
       "      <td>264.40</td>\n",
       "      <td>265.53</td>\n",
       "      <td>13516960</td>\n",
       "      <td>3.589098e+09</td>\n",
       "      <td>168909</td>\n",
       "      <td>22</td>\n",
       "      <td>7</td>\n",
       "      <td>0</td>\n",
       "    </tr>\n",
       "    <tr>\n",
       "      <th>2019-07-23</th>\n",
       "      <td>265.50</td>\n",
       "      <td>271.70</td>\n",
       "      <td>265.0</td>\n",
       "      <td>270.95</td>\n",
       "      <td>270.65</td>\n",
       "      <td>268.88</td>\n",
       "      <td>14396986</td>\n",
       "      <td>3.871019e+09</td>\n",
       "      <td>125113</td>\n",
       "      <td>23</td>\n",
       "      <td>7</td>\n",
       "      <td>0</td>\n",
       "    </tr>\n",
       "    <tr>\n",
       "      <th>2019-07-24</th>\n",
       "      <td>270.30</td>\n",
       "      <td>273.35</td>\n",
       "      <td>267.9</td>\n",
       "      <td>271.25</td>\n",
       "      <td>270.85</td>\n",
       "      <td>270.08</td>\n",
       "      <td>12072603</td>\n",
       "      <td>3.260569e+09</td>\n",
       "      <td>147314</td>\n",
       "      <td>24</td>\n",
       "      <td>7</td>\n",
       "      <td>0</td>\n",
       "    </tr>\n",
       "  </tbody>\n",
       "</table>\n",
       "</div>"
      ],
      "text/plain": [
       "            Open Price  High Price  Low Price  Last Price  Close Price  \\\n",
       "Date                                                                     \n",
       "2019-07-18      272.95      275.10      272.3      272.95       273.00   \n",
       "2019-07-19      274.10      274.25      268.0      268.55       268.30   \n",
       "2019-07-22      268.00      268.20      264.0      264.30       264.40   \n",
       "2019-07-23      265.50      271.70      265.0      270.95       270.65   \n",
       "2019-07-24      270.30      273.35      267.9      271.25       270.85   \n",
       "\n",
       "            Average Price  Total Traded Quantity      Turnover  No. of Trades  \\\n",
       "Date                                                                            \n",
       "2019-07-18         273.86                9096757  2.491249e+09          83228   \n",
       "2019-07-19         269.75                7986847  2.154470e+09          88555   \n",
       "2019-07-22         265.53               13516960  3.589098e+09         168909   \n",
       "2019-07-23         268.88               14396986  3.871019e+09         125113   \n",
       "2019-07-24         270.08               12072603  3.260569e+09         147314   \n",
       "\n",
       "            Day  Month  Year  \n",
       "Date                          \n",
       "2019-07-18   18      7     0  \n",
       "2019-07-19   19      7     0  \n",
       "2019-07-22   22      7     0  \n",
       "2019-07-23   23      7     0  \n",
       "2019-07-24   24      7     0  "
      ]
     },
     "execution_count": 11,
     "metadata": {},
     "output_type": "execute_result"
    }
   ],
   "source": [
    "#Extracting Day, Month, Year from Date\n",
    "df['Day'] = df['Date'].dt.day\n",
    "df['Month'] = df['Date'].dt.month\n",
    "df['Year'] = df['Date'].dt.year\n",
    "df = df.drop(['Date'], axis = 1)\n",
    "df['Year'] = df['Year'] - 2019\n",
    "df.head()"
   ]
  },
  {
   "cell_type": "code",
   "execution_count": 12,
   "id": "7682fb4f",
   "metadata": {},
   "outputs": [],
   "source": [
    "#Creating new target columns and assigning next day value to them.\n",
    "df['Next Open'] = df['Open Price']\n",
    "df['Next Close'] = df['Close Price']\n",
    "df['Next High'] = df['High Price']\n",
    "df['Next Low'] = df['Low Price']\n",
    "for i in range(df.shape[0]-1):\n",
    "    df['Next Open'][i] = df['Open Price'][i+1]\n",
    "    df['Next Close'][i] = df['Close Price'][i+1]\n",
    "    df['Next High'][i] = df['High Price'][i+1]\n",
    "    df['Next Low'][i] = df['Low Price'][i+1]"
   ]
  },
  {
   "cell_type": "code",
   "execution_count": 13,
   "id": "90b0afb3",
   "metadata": {
    "scrolled": true
   },
   "outputs": [
    {
     "data": {
      "text/html": [
       "<div>\n",
       "<style scoped>\n",
       "    .dataframe tbody tr th:only-of-type {\n",
       "        vertical-align: middle;\n",
       "    }\n",
       "\n",
       "    .dataframe tbody tr th {\n",
       "        vertical-align: top;\n",
       "    }\n",
       "\n",
       "    .dataframe thead th {\n",
       "        text-align: right;\n",
       "    }\n",
       "</style>\n",
       "<table border=\"1\" class=\"dataframe\">\n",
       "  <thead>\n",
       "    <tr style=\"text-align: right;\">\n",
       "      <th></th>\n",
       "      <th>Open Price</th>\n",
       "      <th>High Price</th>\n",
       "      <th>Low Price</th>\n",
       "      <th>Last Price</th>\n",
       "      <th>Close Price</th>\n",
       "      <th>Average Price</th>\n",
       "      <th>Total Traded Quantity</th>\n",
       "      <th>Turnover</th>\n",
       "      <th>No. of Trades</th>\n",
       "      <th>Day</th>\n",
       "      <th>Month</th>\n",
       "      <th>Year</th>\n",
       "      <th>Next Open</th>\n",
       "      <th>Next Close</th>\n",
       "      <th>Next High</th>\n",
       "      <th>Next Low</th>\n",
       "    </tr>\n",
       "    <tr>\n",
       "      <th>Date</th>\n",
       "      <th></th>\n",
       "      <th></th>\n",
       "      <th></th>\n",
       "      <th></th>\n",
       "      <th></th>\n",
       "      <th></th>\n",
       "      <th></th>\n",
       "      <th></th>\n",
       "      <th></th>\n",
       "      <th></th>\n",
       "      <th></th>\n",
       "      <th></th>\n",
       "      <th></th>\n",
       "      <th></th>\n",
       "      <th></th>\n",
       "      <th></th>\n",
       "    </tr>\n",
       "  </thead>\n",
       "  <tbody>\n",
       "    <tr>\n",
       "      <th>2021-07-08</th>\n",
       "      <td>203.50</td>\n",
       "      <td>204.50</td>\n",
       "      <td>201.80</td>\n",
       "      <td>202.05</td>\n",
       "      <td>202.00</td>\n",
       "      <td>202.54</td>\n",
       "      <td>20925008</td>\n",
       "      <td>4.238191e+09</td>\n",
       "      <td>141373</td>\n",
       "      <td>8</td>\n",
       "      <td>7</td>\n",
       "      <td>2</td>\n",
       "      <td>202.00</td>\n",
       "      <td>201.35</td>\n",
       "      <td>202.35</td>\n",
       "      <td>200.90</td>\n",
       "    </tr>\n",
       "    <tr>\n",
       "      <th>2021-07-09</th>\n",
       "      <td>202.00</td>\n",
       "      <td>202.35</td>\n",
       "      <td>200.90</td>\n",
       "      <td>201.45</td>\n",
       "      <td>201.35</td>\n",
       "      <td>201.63</td>\n",
       "      <td>11834045</td>\n",
       "      <td>2.386052e+09</td>\n",
       "      <td>95596</td>\n",
       "      <td>9</td>\n",
       "      <td>7</td>\n",
       "      <td>2</td>\n",
       "      <td>202.00</td>\n",
       "      <td>201.10</td>\n",
       "      <td>202.55</td>\n",
       "      <td>200.95</td>\n",
       "    </tr>\n",
       "    <tr>\n",
       "      <th>2021-07-12</th>\n",
       "      <td>202.00</td>\n",
       "      <td>202.55</td>\n",
       "      <td>200.95</td>\n",
       "      <td>201.10</td>\n",
       "      <td>201.10</td>\n",
       "      <td>201.68</td>\n",
       "      <td>13085323</td>\n",
       "      <td>2.639092e+09</td>\n",
       "      <td>95000</td>\n",
       "      <td>12</td>\n",
       "      <td>7</td>\n",
       "      <td>2</td>\n",
       "      <td>202.00</td>\n",
       "      <td>201.85</td>\n",
       "      <td>202.20</td>\n",
       "      <td>201.35</td>\n",
       "    </tr>\n",
       "    <tr>\n",
       "      <th>2021-07-13</th>\n",
       "      <td>202.00</td>\n",
       "      <td>202.20</td>\n",
       "      <td>201.35</td>\n",
       "      <td>202.05</td>\n",
       "      <td>201.85</td>\n",
       "      <td>201.75</td>\n",
       "      <td>10830411</td>\n",
       "      <td>2.185064e+09</td>\n",
       "      <td>66272</td>\n",
       "      <td>13</td>\n",
       "      <td>7</td>\n",
       "      <td>2</td>\n",
       "      <td>201.85</td>\n",
       "      <td>204.10</td>\n",
       "      <td>205.15</td>\n",
       "      <td>201.70</td>\n",
       "    </tr>\n",
       "    <tr>\n",
       "      <th>2021-07-14</th>\n",
       "      <td>201.85</td>\n",
       "      <td>205.15</td>\n",
       "      <td>201.70</td>\n",
       "      <td>203.95</td>\n",
       "      <td>204.10</td>\n",
       "      <td>203.56</td>\n",
       "      <td>20480406</td>\n",
       "      <td>4.169037e+09</td>\n",
       "      <td>106786</td>\n",
       "      <td>14</td>\n",
       "      <td>7</td>\n",
       "      <td>2</td>\n",
       "      <td>204.40</td>\n",
       "      <td>206.25</td>\n",
       "      <td>208.50</td>\n",
       "      <td>202.90</td>\n",
       "    </tr>\n",
       "  </tbody>\n",
       "</table>\n",
       "</div>"
      ],
      "text/plain": [
       "            Open Price  High Price  Low Price  Last Price  Close Price  \\\n",
       "Date                                                                     \n",
       "2021-07-08      203.50      204.50     201.80      202.05       202.00   \n",
       "2021-07-09      202.00      202.35     200.90      201.45       201.35   \n",
       "2021-07-12      202.00      202.55     200.95      201.10       201.10   \n",
       "2021-07-13      202.00      202.20     201.35      202.05       201.85   \n",
       "2021-07-14      201.85      205.15     201.70      203.95       204.10   \n",
       "\n",
       "            Average Price  Total Traded Quantity      Turnover  No. of Trades  \\\n",
       "Date                                                                            \n",
       "2021-07-08         202.54               20925008  4.238191e+09         141373   \n",
       "2021-07-09         201.63               11834045  2.386052e+09          95596   \n",
       "2021-07-12         201.68               13085323  2.639092e+09          95000   \n",
       "2021-07-13         201.75               10830411  2.185064e+09          66272   \n",
       "2021-07-14         203.56               20480406  4.169037e+09         106786   \n",
       "\n",
       "            Day  Month  Year  Next Open  Next Close  Next High  Next Low  \n",
       "Date                                                                      \n",
       "2021-07-08    8      7     2     202.00      201.35     202.35    200.90  \n",
       "2021-07-09    9      7     2     202.00      201.10     202.55    200.95  \n",
       "2021-07-12   12      7     2     202.00      201.85     202.20    201.35  \n",
       "2021-07-13   13      7     2     201.85      204.10     205.15    201.70  \n",
       "2021-07-14   14      7     2     204.40      206.25     208.50    202.90  "
      ]
     },
     "execution_count": 13,
     "metadata": {},
     "output_type": "execute_result"
    }
   ],
   "source": [
    "df=df[:495]\n",
    "df.tail()"
   ]
  },
  {
   "cell_type": "markdown",
   "id": "bd02a300",
   "metadata": {},
   "source": [
    "## Exploratory Data Anlaysis"
   ]
  },
  {
   "cell_type": "code",
   "execution_count": 14,
   "id": "dff4f540",
   "metadata": {},
   "outputs": [
    {
     "data": {
      "text/plain": [
       "<AxesSubplot:xlabel='Average Price', ylabel='Density'>"
      ]
     },
     "execution_count": 14,
     "metadata": {},
     "output_type": "execute_result"
    },
    {
     "data": {
      "image/png": "[encoded data removed]",
      "text/plain": [
       "<Figure size 432x288 with 1 Axes>"
      ]
     },
     "metadata": {
      "needs_background": "light"
     },
     "output_type": "display_data"
    }
   ],
   "source": [
    "sns.distplot(df['Average Price'])"
   ]
  },
  {
   "cell_type": "code",
   "execution_count": 15,
   "id": "b30f15e5",
   "metadata": {},
   "outputs": [
    {
     "data": {
      "text/plain": [
       "<AxesSubplot:xlabel='Total Traded Quantity', ylabel='Density'>"
      ]
     },
     "execution_count": 15,
     "metadata": {},
     "output_type": "execute_result"
    },
    {
     "data": {
      "image/png": "[encoded data removed]",
      "text/plain": [
       "<Figure size 432x288 with 1 Axes>"
      ]
     },
     "metadata": {
      "needs_background": "light"
     },
     "output_type": "display_data"
    }
   ],
   "source": [
    "sns.distplot(df['Total Traded Quantity'])"
   ]
  },
  {
   "cell_type": "code",
   "execution_count": 16,
   "id": "3082d1dc",
   "metadata": {
    "scrolled": true
   },
   "outputs": [
    {
     "data": {
      "text/plain": [
       "<AxesSubplot:xlabel='Turnover', ylabel='Density'>"
      ]
     },
     "execution_count": 16,
     "metadata": {},
     "output_type": "execute_result"
    },
    {
     "data": {
      "image/png": "[encoded data removed]",
      "text/plain": [
       "<Figure size 432x288 with 1 Axes>"
      ]
     },
     "metadata": {
      "needs_background": "light"
     },
     "output_type": "display_data"
    }
   ],
   "source": [
    "sns.distplot(df['Turnover'])"
   ]
  },
  {
   "cell_type": "code",
   "execution_count": 17,
   "id": "43a7805c",
   "metadata": {},
   "outputs": [
    {
     "data": {
      "text/plain": [
       "<AxesSubplot:xlabel='No. of Trades', ylabel='Density'>"
      ]
     },
     "execution_count": 17,
     "metadata": {},
     "output_type": "execute_result"
    },
    {
     "data": {
      "image/png": "[encoded data removed]",
      "text/plain": [
       "<Figure size 432x288 with 1 Axes>"
      ]
     },
     "metadata": {
      "needs_background": "light"
     },
     "output_type": "display_data"
    }
   ],
   "source": [
    "sns.distplot(df['No. of Trades'])"
   ]
  },
  {
   "cell_type": "markdown",
   "id": "d83ca707",
   "metadata": {},
   "source": [
    "## Split data"
   ]
  },
  {
   "cell_type": "code",
   "execution_count": 18,
   "id": "1199eb19",
   "metadata": {},
   "outputs": [],
   "source": [
    "train = df[:395]\n",
    "test = df[395:]"
   ]
  },
  {
   "cell_type": "code",
   "execution_count": 19,
   "id": "a5cfc193",
   "metadata": {},
   "outputs": [],
   "source": [
    "X = df[['Open Price','High Price','Low Price','Last Price','Close Price','Average Price','Total Traded Quantity','Turnover','No. of Trades','Day','Month','Year']]\n",
    "y_open = df['Next Open']\n",
    "y_close = df['Next Close']\n",
    "y_high = df['Next High']\n",
    "y_low = df['Next Low']\n",
    "\n",
    "\n",
    "X_train = train[['Open Price','High Price','Low Price','Last Price','Close Price','Average Price','Total Traded Quantity','Turnover','No. of Trades','Day','Month','Year']]\n",
    "y_train_open = train['Next Open']\n",
    "y_train_close = train['Next Close']\n",
    "y_train_high = train['Next High']\n",
    "y_train_low = train['Next Low']\n",
    "\n",
    "X_test = test[['Open Price','High Price','Low Price','Last Price','Close Price','Average Price','Total Traded Quantity','Turnover','No. of Trades','Day','Month','Year']]\n",
    "y_test_open = test['Next Open']\n",
    "y_test_close = test['Next Close']\n",
    "y_test_high = test['Next High']\n",
    "y_test_low = test['Next Low']"
   ]
  },
  {
   "cell_type": "markdown",
   "id": "6bcffb2a",
   "metadata": {},
   "source": [
    "## Model Training and Evaluation"
   ]
  },
  {
   "cell_type": "code",
   "execution_count": 20,
   "id": "f1e7efff",
   "metadata": {},
   "outputs": [],
   "source": [
    "from sklearn.linear_model import LinearRegression"
   ]
  },
  {
   "cell_type": "code",
   "execution_count": 21,
   "id": "cc62bfad",
   "metadata": {},
   "outputs": [
    {
     "data": {
      "text/plain": [
       "0.9249229510291468"
      ]
     },
     "execution_count": 21,
     "metadata": {},
     "output_type": "execute_result"
    }
   ],
   "source": [
    "model_open = LinearRegression()\n",
    "model_open.fit(X_train,y_train_open)\n",
    "model_open.score(X_test, y_test_open)"
   ]
  },
  {
   "cell_type": "code",
   "execution_count": 22,
   "id": "1c27a5e0",
   "metadata": {},
   "outputs": [
    {
     "data": {
      "text/plain": [
       "0.7231110160291208"
      ]
     },
     "execution_count": 22,
     "metadata": {},
     "output_type": "execute_result"
    }
   ],
   "source": [
    "model_close = LinearRegression()\n",
    "model_close.fit(X_train,y_train_close)\n",
    "model_close.score(X_test, y_test_close)"
   ]
  },
  {
   "cell_type": "code",
   "execution_count": 23,
   "id": "ad011a1d",
   "metadata": {},
   "outputs": [
    {
     "data": {
      "text/plain": [
       "0.8689381389248683"
      ]
     },
     "execution_count": 23,
     "metadata": {},
     "output_type": "execute_result"
    }
   ],
   "source": [
    "model_high = LinearRegression()\n",
    "model_high.fit(X_train,y_train_high)\n",
    "model_high.score(X_test, y_test_high)"
   ]
  },
  {
   "cell_type": "code",
   "execution_count": 24,
   "id": "4b9c71eb",
   "metadata": {},
   "outputs": [
    {
     "data": {
      "text/plain": [
       "0.7765376689011433"
      ]
     },
     "execution_count": 24,
     "metadata": {},
     "output_type": "execute_result"
    }
   ],
   "source": [
    "model_low = LinearRegression()\n",
    "model_low.fit(X_train,y_train_low)\n",
    "model_low.score(X_test, y_test_low)"
   ]
  },
  {
   "cell_type": "code",
   "execution_count": 25,
   "id": "695d1504",
   "metadata": {},
   "outputs": [
    {
     "data": {
      "text/plain": [
       "LinearRegression()"
      ]
     },
     "execution_count": 25,
     "metadata": {},
     "output_type": "execute_result"
    }
   ],
   "source": [
    "#Final Model\n",
    "model_open_final=LinearRegression()\n",
    "model_close_final=LinearRegression()\n",
    "model_high_final=LinearRegression()\n",
    "model_low_final=LinearRegression()\n",
    "model_open_final.fit(X,y_open)\n",
    "model_close_final.fit(X,y_close)\n",
    "model_high_final.fit(X,y_high)\n",
    "model_low_final.fit(X,y_low)"
   ]
  },
  {
   "cell_type": "markdown",
   "id": "6a4d73a0",
   "metadata": {},
   "source": [
    "## Model Prediction"
   ]
  },
  {
   "cell_type": "code",
   "execution_count": 26,
   "id": "2d01e9f0",
   "metadata": {
    "scrolled": true
   },
   "outputs": [
    {
     "name": "stdout",
     "output_type": "stream",
     "text": [
      "Open:  206.83 \n",
      "Close: 206.33 \n",
      "High:  208.56 \n",
      "Low:   204.58\n"
     ]
    }
   ],
   "source": [
    "data = [[204.4,208.5,202.9,206.4,206.25,205.96,28852257,5942450170,148819,15,7,2]]\n",
    "print(\"Open: \",model_open_final.predict(data)[0].round(2),\n",
    "      \"\\nClose:\",model_close_final.predict(data)[0].round(2),\n",
    "      \"\\nHigh: \",model_high_final.predict(data)[0].round(2),\n",
    "      \"\\nLow:  \",model_low_final.predict(data)[0].round(2))"
   ]
  }
 ],
 "metadata": {
  "kernelspec": {
   "display_name": "Python 3 (ipykernel)",
   "language": "python",
   "name": "python3"
  },
  "language_info": {
   "codemirror_mode": {
    "name": "ipython",
    "version": 3
   },
   "file_extension": ".py",
   "mimetype": "text/x-python",
   "name": "python",
   "nbconvert_exporter": "python",
   "pygments_lexer": "ipython3",
   "version": "3.9.5"
  }
 },
 "nbformat": 4,
 "nbformat_minor": 5
}
